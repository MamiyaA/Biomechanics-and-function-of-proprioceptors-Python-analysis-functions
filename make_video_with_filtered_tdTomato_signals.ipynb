{
  "nbformat": 4,
  "nbformat_minor": 0,
  "metadata": {
    "kernelspec": {
      "display_name": "Python 3",
      "language": "python",
      "name": "python3"
    },
    "language_info": {
      "codemirror_mode": {
        "name": "ipython",
        "version": 3
      },
      "file_extension": ".py",
      "mimetype": "text/x-python",
      "name": "python",
      "nbconvert_exporter": "python",
      "pygments_lexer": "ipython3",
      "version": "3.7.6"
    },
    "colab": {
      "name": "make_video_with_filtered_tdTomato_signals.ipynb",
      "provenance": [],
      "collapsed_sections": [],
      "toc_visible": true,
      "include_colab_link": true
    }
  },
  "cells": [
    {
      "cell_type": "markdown",
      "metadata": {
        "id": "view-in-github",
        "colab_type": "text"
      },
      "source": [
        "<a href=\"https://colab.research.google.com/github/MamiyaA/Biomechanics-and-function-of-proprioceptors-Python-analysis-functions/blob/master/make_video_with_filtered_tdTomato_signals.ipynb\" target=\"_parent\"><img src=\"https://colab.research.google.com/assets/colab-badge.svg\" alt=\"Open In Colab\"/></a>"
      ]
    },
    {
      "cell_type": "markdown",
      "metadata": {
        "id": "zXud2YiIO-sA",
        "colab_type": "text"
      },
      "source": [
        "# Python function for creating a video that shows the movements of cell during imaging.\n",
        "\n",
        "## Uses OpenCV to create a video of fluorescent images overlayed on top of the thresholded image.\n",
        "\n",
        "## Load the output from the \"apply_3D_gaussian_to_ScanImageFile\" (filtered tdTomato and GCaMP images) and make a video of tdTomato signal.\n",
        "\n",
        "- #### Specify the threshold for the mask overlay.\n",
        "- #### Runs as a google colab notebook.\n",
        "- #### Data is located on google drive."
      ]
    },
    {
      "cell_type": "markdown",
      "metadata": {
        "id": "Xoe26ZXuRCrT",
        "colab_type": "text"
      },
      "source": [
        "### Connect to a hosted runtime then import necessary packages"
      ]
    },
    {
      "cell_type": "code",
      "metadata": {
        "id": "IO4mF3BRO-sB",
        "colab_type": "code",
        "colab": {}
      },
      "source": [
        "#import the necessary packages.\n",
        "import numpy as np\n",
        "import os\n",
        "import fnmatch\n",
        "import matplotlib.pyplot as plt\n",
        "from scipy.ndimage import gaussian_filter\n",
        "import pickle\n",
        "from skimage.segmentation import watershed\n",
        "from skimage.measure import regionprops_table\n",
        "import cv2"
      ],
      "execution_count": null,
      "outputs": []
    },
    {
      "cell_type": "markdown",
      "metadata": {
        "id": "7sJHdNxHqbsf",
        "colab_type": "text"
      },
      "source": [
        "### Mount the Google Drive (Shared drives)"
      ]
    },
    {
      "cell_type": "code",
      "metadata": {
        "id": "HShYHCvHqVip",
        "colab_type": "code",
        "colab": {}
      },
      "source": [
        "#link to the google drive. Need to follow the authorization instructions.\n",
        "from google.colab import drive\n",
        "drive.mount('/content/drive')"
      ],
      "execution_count": null,
      "outputs": []
    },
    {
      "cell_type": "markdown",
      "metadata": {
        "id": "KDfzRFiNO-sF",
        "colab_type": "text"
      },
      "source": [
        "### Use the output from a Function: apply_3D_gaussian_to_ScanImageFile\n",
        "\n",
        "- #### The function is defined in a google colab notebook located in the same directory as this notebook. \n",
        "\n",
        "- #### It saves a pickle file that we are going to use here. It contains signals from GCaMP and tdTomato that are filtered with 3D gaussian filter.\n",
        "\n",
        "- #### signals from different depth are averaged for this matrix\n",
        "    "
      ]
    },
    {
      "cell_type": "markdown",
      "metadata": {
        "id": "ngcLBy_lO-sJ",
        "colab_type": "text"
      },
      "source": [
        "### Define a function that loads the filtered data and make the overlay video"
      ]
    },
    {
      "cell_type": "code",
      "metadata": {
        "id": "uGScZk5aO-sK",
        "colab_type": "code",
        "colab": {}
      },
      "source": [
        "#a function to load the filtered data and make an .avi movie\n",
        "#overlay a mask defined by mask_threshold.\n",
        "#frames_per_second defines how many fps for the video.\n",
        "#\n",
        "#min_range and max_range defines the min and max for the tdTomato image\n",
        "#0 to 3500 seems to work well.\n",
        "\n",
        "def load_filtered_data_make_overlay_video(input_file,mask_threshold,frames_per_second,min_range,max_range):\n",
        "    #Load the file\n",
        "    infile=open(input_file,'rb')\n",
        "    tdTomato_Filtered=pickle.load(infile)\n",
        "    infile.close()\n",
        "    \n",
        "    \n",
        "    \n",
        "    #Make a video with the original tdTomato signal plus overlay of the thresholded image\n",
        "    video_name = (input_file+\"tdTomato_signal_overlay.avi\")\n",
        "   \n",
        "    video = cv2.VideoWriter(video_name,cv2.VideoWriter_fourcc(*'mp4v'),frames_per_second,(tdTomato_Filtered.shape[2],tdTomato_Filtered.shape[1]))\n",
        "\n",
        "    #Number of frames in the data\n",
        "    total_frames = tdTomato_Filtered.shape[0]\n",
        "\n",
        "    #For making video, ignore the negative numbers.\n",
        "    tdTomato_Filtered[tdTomato_Filtered<0]=0\n",
        "    range_adjusted_tdTomato=((tdTomato_Filtered-min_range)/max_range)*255\n",
        "    \n",
        "    #For overlay. Hard coded for now.\n",
        "    alpha=0.1\n",
        "    beta=(1.0-alpha)\n",
        "    thresholded_image=tdTomato_Filtered>=mask_threshold\n",
        "\n",
        "    for video_frame in range(total_frames):\n",
        "        frame = cv2.applyColorMap(np.uint8(range_adjusted_tdTomato[video_frame,:,:]),cv2.COLORMAP_PARULA)\n",
        "    \n",
        "        frame_threshold = cv2.applyColorMap(np.uint8(thresholded_image[video_frame,:,:]*250),cv2.COLORMAP_WINTER)\n",
        "\n",
        "        add_image = cv2.applyColorMap(np.uint8(range_adjusted_tdTomato[video_frame,:,:]),cv2.COLORMAP_PARULA)\n",
        "\n",
        "        cv2.addWeighted(frame_threshold,alpha,frame,beta,0.0,add_image)\n",
        "        video.write(add_image)\n",
        "\n",
        "    video.release()"
      ],
      "execution_count": null,
      "outputs": []
    },
    {
      "cell_type": "markdown",
      "metadata": {
        "id": "k0duFxfXrx_l",
        "colab_type": "text"
      },
      "source": [
        "### Get the path to the filtered data"
      ]
    },
    {
      "cell_type": "code",
      "metadata": {
        "colab_type": "code",
        "id": "KHjk4tVeUfWI",
        "colab": {}
      },
      "source": [
        "#Get the file path to the filtered data\n",
        "\n",
        "filtered_file_path=[]\n",
        "#Path for the image files\n",
        "path = '/content/drive/Shared drives/Data'\n",
        "\n",
        "#Go through all the files in a directory (probably includes subidirectoies as well?)\n",
        "for file_name in os.listdir(path):\n",
        "    if fnmatch.fnmatch(file_name,'*tdTomato_Filtered'):\n",
        "        filtered_file_path.append(os.path.join(path,file_name))\n",
        "        \n",
        "filtered_file_path_sorted=sorted(filtered_file_path)\n",
        "\n",
        "#Print to make sure\n",
        "for f in filtered_file_path_sorted:\n",
        "    print(f)\n",
        "    \n"
      ],
      "execution_count": null,
      "outputs": []
    },
    {
      "cell_type": "markdown",
      "metadata": {
        "id": "6DYys47-O-sR",
        "colab_type": "text"
      },
      "source": [
        "### Run for all the filtered files in the Data folder"
      ]
    },
    {
      "cell_type": "code",
      "metadata": {
        "id": "ABUNbM3-O-sR",
        "colab_type": "code",
        "colab": {}
      },
      "source": [
        "#Print files names to track the progress\n",
        "for filtered_files in filtered_file_path_sorted:\n",
        "  print(filtered_files)\n",
        "  load_filtered_data_make_overlay_video(filtered_files,90,30,0,1000)\n",
        "\n"
      ],
      "execution_count": null,
      "outputs": []
    }
  ]
}
