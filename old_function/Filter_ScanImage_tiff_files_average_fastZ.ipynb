{
  "nbformat": 4,
  "nbformat_minor": 0,
  "metadata": {
    "kernelspec": {
      "display_name": "Python 3",
      "language": "python",
      "name": "python3"
    },
    "language_info": {
      "codemirror_mode": {
        "name": "ipython",
        "version": 3
      },
      "file_extension": ".py",
      "mimetype": "text/x-python",
      "name": "python",
      "nbconvert_exporter": "python",
      "pygments_lexer": "ipython3",
      "version": "3.7.6"
    },
    "colab": {
      "name": "Filter_ScanImage_tiff_files_average_fastZ.ipynb",
      "provenance": [],
      "collapsed_sections": [],
      "toc_visible": true,
      "include_colab_link": true
    }
  },
  "cells": [
    {
      "cell_type": "markdown",
      "metadata": {
        "id": "view-in-github",
        "colab_type": "text"
      },
      "source": [
        "<a href=\"https://colab.research.google.com/github/MamiyaA/Biomechanics-and-function-of-proprioceptors-Python-analysis-functions/blob/master/Filter_ScanImage_tiff_files_average_fastZ.ipynb\" target=\"_parent\"><img src=\"https://colab.research.google.com/assets/colab-badge.svg\" alt=\"Open In Colab\"/></a>"
      ]
    },
    {
      "cell_type": "markdown",
      "metadata": {
        "id": "nemje_u3oIim",
        "colab_type": "text"
      },
      "source": [
        "### Read in .tiff files acquired using the ScanImage (3D fast Z setting) and filter them using a gaussian 3D filter\n",
        "\n",
        "- Find all the .tif files (acquired by the ScanImage)\n",
        "- Separate the images into the GCaMP signal and tdTomato signal\n",
        "- Separate the GCaMP and tdTomato signals into each depth\n",
        "- Apply 3D gaussian filter (x, y, and time) to each signal at each depth\n",
        "- Average the signal over the depth at each time point (for this genotype we have 4 steps, 3 micron/step)\n",
        "- Save the average image (pickel file)\n",
        "\n",
        "### Run functions in google colab using data stored on google drive\n"
      ]
    },
    {
      "cell_type": "markdown",
      "metadata": {
        "id": "lQQAOYmYp_UB",
        "colab_type": "text"
      },
      "source": [
        "### Connect to a hosted runtime"
      ]
    },
    {
      "cell_type": "markdown",
      "metadata": {
        "id": "inZ7goHApoq4",
        "colab_type": "text"
      },
      "source": [
        "### Install ScanImage Tiff Reader provided by Vidriotech to read in the ScanImage files"
      ]
    },
    {
      "cell_type": "code",
      "metadata": {
        "id": "wsg2RF4bpVs9",
        "colab_type": "code",
        "colab": {}
      },
      "source": [
        "#Install ScanImage Tiff Reader for Python\n",
        "!pip install scanimage-tiff-reader"
      ],
      "execution_count": null,
      "outputs": []
    },
    {
      "cell_type": "code",
      "metadata": {
        "id": "muaMhVfuoIip",
        "colab_type": "code",
        "colab": {}
      },
      "source": [
        "#import necessary packages.\n",
        "from ScanImageTiffReader import ScanImageTiffReader\n",
        "import numpy as np\n",
        "import os\n",
        "import fnmatch\n",
        "import matplotlib.pyplot as plt\n",
        "from scipy.ndimage import gaussian_filter\n",
        "import pickle"
      ],
      "execution_count": null,
      "outputs": []
    },
    {
      "cell_type": "markdown",
      "metadata": {
        "id": "7sJHdNxHqbsf",
        "colab_type": "text"
      },
      "source": [
        "### Mount Google Drive (assuming we have data on google drive)"
      ]
    },
    {
      "cell_type": "code",
      "metadata": {
        "id": "HShYHCvHqVip",
        "colab_type": "code",
        "colab": {}
      },
      "source": [
        "#link to the google drive. Need to follow the authorization instructions.\n",
        "from google.colab import drive\n",
        "drive.mount('/content/drive')"
      ],
      "execution_count": null,
      "outputs": []
    },
    {
      "cell_type": "markdown",
      "metadata": {
        "id": "k0duFxfXrx_l",
        "colab_type": "text"
      },
      "source": [
        "### Get the path to the imaging data (.tiff files)"
      ]
    },
    {
      "cell_type": "code",
      "metadata": {
        "id": "aK9WGpCgoIiy",
        "colab_type": "code",
        "colab": {}
      },
      "source": [
        "#Get the file path to the imaging data\n",
        "\n",
        "image_file_path=[]\n",
        "#Path for the image files\n",
        "path = '/content/drive/Shared drives/DataDirectory'\n",
        "\n",
        "#Go through all the files in a directory\n",
        "for file_name in os.listdir(path):\n",
        "    if fnmatch.fnmatch(file_name,'2*.tif'):\n",
        "        image_file_path.append(os.path.join(path,file_name))\n",
        "        \n",
        "image_file_path_sorted=sorted(image_file_path)\n",
        "\n",
        "#Print to make sure\n",
        "for f in image_file_path_sorted:\n",
        "    print(f)\n",
        "    \n"
      ],
      "execution_count": null,
      "outputs": []
    },
    {
      "cell_type": "markdown",
      "metadata": {
        "id": "Rc3IEnYBsuQm",
        "colab_type": "text"
      },
      "source": [
        "### Define a function for reading the ScanImage data (Fast-Z stack) and apply 3D gaussian filter "
      ]
    },
    {
      "cell_type": "code",
      "metadata": {
        "id": "RL-NN6oUoIi9",
        "colab_type": "code",
        "colab": {}
      },
      "source": [
        "#Function for:\n",
        "#1) Read in the .tiff file\n",
        "#2) Separate into GCaMP and tdTomato signals\n",
        "#3) Separate into each depth\n",
        "#4) Apply 3D gaussian filter (x, y, time)\n",
        "#5) Average over the depth for each time point.\n",
        "#6) Save as a pickel file\n",
        "# NofZ specify the Fast-z levels in the image.\n",
        "# FileName is: ImageFilesPathSorted[0], etc.\n",
        "# Recommended Gaussian_sigma_array = [5, 5, 5]\n",
        "\n",
        "def apply_3D_gaussian_to_ScanImageFile(FileName,NofZ,gaussian_sigma_array):\n",
        "    \n",
        "    #Load the image using ScanImageTiffReader\n",
        "    TimeSeries=ScanImageTiffReader(FileName).data()\n",
        "    #Close the file\n",
        "    ScanImageTiffReader(FileName).close()\n",
        "    \n",
        "    #Currently the images are multiplexed so NofFrames*NoChannels*NofZlevels\n",
        "    #is the first dimension.\n",
        "\n",
        "    #We first split into two channels because we know they all have two channels\n",
        "    #for the 1st channel (start with 1 and take every other frame)\n",
        "    Channel_1_Index=np.arange(0, TimeSeries.shape[0],2)\n",
        "    Channel_2_Index=np.arange(1,TimeSeries.shape[0],2)\n",
        "\n",
        "    #assuming GCaMP is channel 1 and tdT is channel 2\n",
        "    #This is true for all downstairs experiments\n",
        "\n",
        "    GCaMPSignal=TimeSeries[Channel_1_Index]\n",
        "    TdTomatoSignal=TimeSeries[Channel_2_Index]\n",
        "\n",
        "    #Split into different z-levels and apply 3D gaussian filter\n",
        "    #First for the GCaMP signal.\n",
        "    depth_avg_image_GCaMP=np.zeros((GCaMPSignal.shape[0]//NofZ,GCaMPSignal.shape[1],GCaMPSignal.shape[2]),dtype=np.int16)\n",
        "\n",
        "    for depth in range(NofZ):\n",
        "        depthIndex=np.arange(depth,GCaMPSignal.shape[0],NofZ)\n",
        "        temp_filtered = gaussian_filter(GCaMPSignal[depthIndex], sigma=gaussian_sigma_array)\n",
        "    \n",
        "        depth_avg_image_GCaMP=np.add(depth_avg_image_GCaMP,temp_filtered)\n",
        "        del temp_filtered\n",
        "    \n",
        "    #save the depth_avg_image\n",
        "    depth_avg_image_GCaMP=depth_avg_image_GCaMP/NofZ\n",
        "    image_file_name=FileName.split('.')\n",
        "    outfile_name=(image_file_name[0]+\"GCaMP_Filtered\")\n",
        "\n",
        "    outfile=open(outfile_name,'wb')\n",
        "    pickle.dump(depth_avg_image_GCaMP,outfile)\n",
        "    outfile.close()\n",
        "    del depth_avg_image_GCaMP\n",
        "\n",
        "    #Do the same for the tdTomato signal.\n",
        "    depth_avg_image_tdTomato=np.zeros((TdTomatoSignal.shape[0]//NofZ,TdTomatoSignal.shape[1],TdTomatoSignal.shape[2]),dtype=np.int16)\n",
        "\n",
        "    for depth in range(NofZ):\n",
        "        depthIndex=np.arange(depth,TdTomatoSignal.shape[0],NofZ)\n",
        "        temp_filtered = gaussian_filter(TdTomatoSignal[depthIndex], sigma=gaussian_sigma_array)\n",
        "    \n",
        "        depth_avg_image_tdTomato=np.add(depth_avg_image_tdTomato,temp_filtered)\n",
        "        del temp_filtered\n",
        "    \n",
        "    #save the depth_avg_image\n",
        "    depth_avg_image_tdTomato=depth_avg_image_tdTomato/NofZ\n",
        "    image_file_name=FileName.split('.')\n",
        "    outfile_name=(image_file_name[0]+\"tdTomato_Filtered\")\n",
        "\n",
        "    outfile=open(outfile_name,'wb')\n",
        "    pickle.dump(depth_avg_image_tdTomato,outfile)\n",
        "    outfile.close()\n",
        "    del depth_avg_image_tdTomato\n"
      ],
      "execution_count": null,
      "outputs": []
    },
    {
      "cell_type": "markdown",
      "metadata": {
        "id": "EQtuj1vwuWAl",
        "colab_type": "text"
      },
      "source": [
        "### Run for all the files in the Data directory"
      ]
    },
    {
      "cell_type": "code",
      "metadata": {
        "id": "kXQxA5f4oIjb",
        "colab_type": "code",
        "colab": {}
      },
      "source": [
        "#Go throuh all the files in the data directory\n",
        "for inputFiles in image_file_path_sorted:\n",
        "    print(inputFiles)\n",
        "    apply_3D_gaussian_to_ScanImageFile(inputFiles,4,[5,5,5])\n",
        "\n",
        "    "
      ],
      "execution_count": null,
      "outputs": []
    }
  ]
}
